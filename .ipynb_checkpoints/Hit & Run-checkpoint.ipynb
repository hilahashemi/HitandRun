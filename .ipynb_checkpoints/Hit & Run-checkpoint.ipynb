{
 "metadata": {
  "name": "",
  "signature": "sha256:3ea7a0f79aa50c4fa02020d75fa510e7c435ded690007fac760c88b817743ded"
 },
 "nbformat": 3,
 "nbformat_minor": 0,
 "worksheets": [
  {
   "cells": [
    {
     "cell_type": "heading",
     "level": 1,
     "metadata": {},
     "source": [
      "Hit and Run, San Diego"
     ]
    },
    {
     "cell_type": "markdown",
     "metadata": {},
     "source": [
      "In this notebook, we will be analyzing the hit&run cases in San Diego area. "
     ]
    },
    {
     "cell_type": "code",
     "collapsed": false,
     "input": [
      "import pandas as pd\n",
      "import pandas.io.data\n",
      "from pandas import Series, DataFrame\n",
      "\n",
      "import numpy as np\n",
      "\n",
      "import datetime\n",
      "\n",
      "import matplotlib.pyplot as plt\n",
      "import matplotlib as mpl"
     ],
     "language": "python",
     "metadata": {},
     "outputs": [],
     "prompt_number": 2
    },
    {
     "cell_type": "code",
     "collapsed": false,
     "input": [
      "datai = pd.read_csv('http://devtest.sandiegodata.org.s3.amazonaws.com/manifests/7a007ac7-960f-468b-8ce3-7b9f83e34ea8/hnr0914.csv')"
     ],
     "language": "python",
     "metadata": {},
     "outputs": [],
     "prompt_number": 3
    },
    {
     "cell_type": "heading",
     "level": 2,
     "metadata": {},
     "source": [
      "Understanding the Data"
     ]
    },
    {
     "cell_type": "markdown",
     "metadata": {},
     "source": [
      "First, let's look at the structure of the data and familiarize ourselves with the information the dataset provides us with:"
     ]
    },
    {
     "cell_type": "code",
     "collapsed": true,
     "input": [
      "datai.info()"
     ],
     "language": "python",
     "metadata": {},
     "outputs": [
      {
       "output_type": "stream",
       "stream": "stdout",
       "text": [
        "<class 'pandas.core.frame.DataFrame'>\n",
        "Int64Index: 804 entries, 0 to 803\n",
        "Data columns (total 34 columns):\n",
        "id                      804 non-null int64\n",
        "division                804 non-null object\n",
        "district                804 non-null object\n",
        "highest_dispo_charge    704 non-null object\n",
        "last_event_result       804 non-null object\n",
        "number                  804 non-null object\n",
        "highest_charge          804 non-null object\n",
        "highest_charge_mod      366 non-null object\n",
        "complaint_year          804 non-null float64\n",
        "next_pending_event      62 non-null object\n",
        "offense_date            804 non-null object\n",
        "sentencing              692 non-null object\n",
        "final_disposition       734 non-null object\n",
        "unit                    804 non-null object\n",
        "event_of_final_dispo    734 non-null object\n",
        "drug                    13 non-null float64\n",
        "drug_patient            1 non-null float64\n",
        "drug_res                12 non-null float64\n",
        "full                    1 non-null float64\n",
        "incar                   495 non-null float64\n",
        "incar_county            4 non-null float64\n",
        "incar_life              3 non-null float64\n",
        "incar_prison            151 non-null float64\n",
        "incar_local             348 non-null float64\n",
        "prob                    533 non-null float64\n",
        "prob_formal             317 non-null float64\n",
        "prob_sum                217 non-null float64\n",
        "prog                    3 non-null float64\n",
        "prog_child              1 non-null float64\n",
        "prog_dv                 2 non-null float64\n",
        "work                    126 non-null float64\n",
        "work_furl               17 non-null float64\n",
        "work_pub                87 non-null float64\n",
        "work_vol                23 non-null float64\n",
        "dtypes: float64(20), int64(1), object(13)"
       ]
      }
     ],
     "prompt_number": 4
    },
    {
     "cell_type": "code",
     "collapsed": false,
     "input": [
      "print('Counties: '+str(datai.district.unique()))\n",
      "print('\\n Types of final dispositions: '+str(datai.final_disposition.unique()))\n",
      "print('\\n Highest_charge_mod: '+str(datai.highest_charge_mod.unique()))\n",
      "print('\\n Highest_charge: '+str(data.highest_charge.unique()))"
     ],
     "language": "python",
     "metadata": {},
     "outputs": [
      {
       "output_type": "stream",
       "stream": "stdout",
       "text": [
        "Counties: ['Central' 'East County' 'North County' 'South County']\n",
        "\n",
        " Types of final dispositions: ['Pled Guilty Felony' 'Found Guilty, Felony'\n",
        " 'Pled Guilty Misdemeanor - Immediate Sentencing' nan\n",
        " 'Pled Guilty Misdemeanor' 'Dismissed Other (see note)'\n",
        " 'Dismissed (Issued by Other Jurisdiction)'\n",
        " 'Pled No Contest Infraction - Immediate Sentencing'\n",
        " 'Dismissed (IFJ / IOE)' 'Found Guilty, Misdemeanor'\n",
        " 'Dismissed by Court (PC 1118.1)'\n",
        " 'Pled Guilty Infraction - Immediate Sentencing'\n",
        " 'Pled Guilty, Misdemeanor After Jury Sworn' 'Found Not Guilty'\n",
        " 'Dismissed - Defendant Deceased']\n",
        "\n",
        " Highest_charge_mod: ['alcohol' nan 'deadly w' 'drugs' 'force' 'combine' 'lawful act'\n",
        " 'unlawful act' 'transport']\n",
        "\n",
        " Highest_charge: ['VC23153(a)' 'PC187(a)' 'VC20001(a)' 'PC211' 'PC245(a)(1)' 'VC2800.2(a)'\n",
        " 'PC191.5(a)' 'PC273a(a)' 'VC2800.3(a)' 'PC69' 'VC20001(b)(2)' 'VC10851(a)'\n",
        " 'VC23152(a)' 'PC215(a)' 'PC207(a)' 'PC243(d)' 'VC23109.1(a)' 'PC245(c)'\n",
        " 'PC459' 'PC273.5(a)' 'PC368(b)(1)' 'VC23153(b)' 'PC192(c)(1)' 'HS11379(a)'\n",
        " 'HS11350(a)' 'PC191.5(b)' 'HS11352(a)' 'HS11359' 'PC484 & 490.5'\n",
        " 'PC187(a) - PC664' 'PC245(a)(4)']\n"
       ]
      }
     ],
     "prompt_number": 1126
    },
    {
     "cell_type": "heading",
     "level": 1,
     "metadata": {},
     "source": [
      "Cleaning the Data:"
     ]
    },
    {
     "cell_type": "markdown",
     "metadata": {},
     "source": [
      "Looking through the data, it does need a little bit of clean up. "
     ]
    },
    {
     "cell_type": "code",
     "collapsed": false,
     "input": [
      "# Clean the data and get rid of all the enteries where there is no sentencening AND disposition:\n",
      "data = datai.dropna(subset = ['final_disposition' , 'sentencing'], how='all')\n",
      "ss = len(datai)- len(data)\n",
      "print('Number of cases where there is no information about the final disposition charge AND the sentencing: '+str(ss))\n",
      "print('We deleted all such cases from the data set. \\n')\n",
      "\n",
      "#Confirm all the dimissed cases were not sentenced:\n",
      "nd = (data.final_disposition.str.contains(\"Dismissed\")).sum()\n",
      "data.final_disposition = data.final_disposition.fillna(\"No Disposition\")\n",
      "data.sentencing = data.sentencing.fillna(\"Not Sentenced\")\n",
      "print \"Does dismissed mean they were not sentenced?\"\n",
      "print((data.final_disposition.str.contains(\"Dismissed\") & data.sentencing.str.contains(\"Not Sentenced\")).sum() - nd)\n",
      "print('All the dimissed cases were indeed not sentenced but we keep these cases in the data for their statistical significance. \\n')\n",
      "\n",
      "#confirm all the convicted cases were sentenced:\n",
      "print('Looks like there are '+str(((data.final_disposition.str.contains(\"Felony\") | data.final_disposition.str.contains(\"Misdemeanor\")) & data.sentencing.str.contains(\"Not Sentenced\")).sum())+ ' cases where people were convicted but no information about their sentance! Let\\'s take a look at the next pending event in these cases:')\n",
      "print(data[(data.final_disposition.str.contains(\"Felony\") | data.final_disposition.str.contains(\"Misdemeanor\")) & data.sentencing.str.contains(\"Not Sentenced\")].next_pending_event)\n",
      "print('\\nAha! They did not have their sentence hearing yet! We\\'ll delete these cases for consistency.')\n",
      "data = data.drop(data.index[(data.final_disposition.str.contains(\"Felony\") | data.final_disposition.str.contains(\"Misdemeanor\")) & data.sentencing.str.contains(\"Not Sentenced\")])\n",
      "\n",
      "Not_sentenced_not_dismissed = (len(data.sentencing)- len(data.sentencing.str.contains(\"Not Sentenced\")))\n",
      "print('\\nThe number of cases in which they were not dismissed but not sentenced either in the cleaned data is '+str(Not_sentenced_not_dismissed)+'! Now we know the data is all clean and makes sense. We\\'re ready for analysis now')"
     ],
     "language": "python",
     "metadata": {},
     "outputs": [
      {
       "output_type": "stream",
       "stream": "stdout",
       "text": [
        "Number of cases where there is no information about the final disposition charge AND the sentencing: 70\n",
        "We deleted all such cases from the data set. \n",
        "\n",
        "Does dismissed mean they were not sentenced?"
       ]
      },
      {
       "output_type": "stream",
       "stream": "stdout",
       "text": [
        "\n",
        "0\n",
        "All the dimissed cases were indeed not sentenced but we keep these cases in the data for their statistical significance. \n",
        "\n",
        "Looks like there are 13 cases where people were convicted but no information about their sentance! Let's take a look at the next pending event in these cases:\n",
        "168    Sentencing Hearing\n",
        "171                   NaN\n",
        "195    Sentencing Hearing\n",
        "198    Sentencing Hearing\n",
        "199    Sentencing Hearing\n",
        "204    Sentencing Hearing\n",
        "207    Sentencing Hearing\n",
        "302    Sentencing Hearing\n",
        "638    Sentencing Hearing\n",
        "643                   NaN\n",
        "667    Sentencing Hearing\n",
        "674    Sentencing Hearing\n",
        "792    Sentencing Hearing\n",
        "Name: next_pending_event, dtype: object\n",
        "\n",
        "Aha! They did not have their sentence hearing yet! We'll delete these cases for consistency.\n",
        "\n",
        "The number of cases in which they were not dismissed but not sentenced either in the cleaned data is 0! Now we know the data is all clean and makes sense. We're ready for analysis now\n"
       ]
      }
     ],
     "prompt_number": 8
    },
    {
     "cell_type": "heading",
     "level": 1,
     "metadata": {},
     "source": [
      "Analyzing and understanding the dispositions:"
     ]
    },
    {
     "cell_type": "code",
     "collapsed": false,
     "input": [
      "# Analyze the final disposition\n",
      "Felony = data[data.final_disposition.str.contains(\"Felony\")]\n",
      "nf = len(Felony)\n",
      "MD = data[data.final_disposition.str.contains(\"Misdemeanor\")]\n",
      "nm = len(MD)\n",
      "Pled = data[data.final_disposition.str.contains(\"Pled Guilty\")]\n",
      "np = len(Pled)\n",
      "Found = data[data.final_disposition.str.contains(\"Found Guilty\")]\n",
      "nfg = len(Found)\n",
      "\n",
      "Pled_felony = data[(data.final_disposition.str.contains(\"Felony\")) & (data.final_disposition.str.contains(\"Pled Guilty\"))]\n",
      "npf = len(Pled_felony)\n",
      "Pled_mis = data[(data.final_disposition.str.contains(\"Misdemeanor\")) & (data.final_disposition.str.contains(\"Pled Guilty\"))]\n",
      "npm = len(Pled_mis)\n",
      "Found_felony = data[(data.final_disposition.str.contains(\"Felony\")) & (data.final_disposition.str.contains(\"Found Guilty\"))]\n",
      "nff = len(Found_felony)\n",
      "Found_mis = data[(data.final_disposition.str.contains(\"Misdemeanor\")) & (data.final_disposition.str.contains(\"Found Guilty\"))]\n",
      "nfm = len(Found_mis)\n",
      "\n",
      "Total_convicted = nf + nm\n",
      "Total_cases = len(data)\n",
      "\n",
      "# print ('Breakdown of the final disposition = '+format(j))\n",
      "print('\\n Total number of cases: '+str(Total_cases)+'\\n Total number of cases convicted: '+str(Total_convicted))\n",
      "print ('\\n Counts of \\n Felony: '+str(nf)+'   or '+str(float(nf)/float(Total_convicted)*100)+'%\\n Misdemeanor: '+str(nm)+'   or '+str(float(nm)/float(Total_convicted)*100)+'%\\n \\n Pled Guilty: '+str(np)+'   or '+str(float(np)/float(Total_cases)*100)+'%\\n Found Guilty: '+str(nfg)+'   or '+str(float(nfg)/float(Total_cases)*100)+'%\\n Dismissed: '+ str(nd)+'   or '+str(float(nd)/float(Total_cases)*100)+'%\\n \\n Pled Guilty - Felony: '+ str(npf)+'\\n Found-Guilty - Felony: '+str(nff)+'\\n Pled Guilty - Misdemeanor: '+str(npm)+'\\n Found Guilty - Misdemeanor: '+str(nfm))"
     ],
     "language": "python",
     "metadata": {},
     "outputs": [
      {
       "output_type": "stream",
       "stream": "stdout",
       "text": [
        "\n",
        " Total number of cases: 721\n",
        " Total number of cases convicted: 690\n",
        "\n",
        " Counts of \n",
        " Felony: 487   or 70.5797101449%\n",
        " Misdemeanor: 203   or 29.4202898551%\n",
        " \n",
        " Pled Guilty: 676   or 93.758668516%\n",
        " Found Guilty: 16   or 2.21914008322%\n",
        " Dismissed: 27   or 3.74479889043%\n",
        " \n",
        " Pled Guilty - Felony: 472\n",
        " Found-Guilty - Felony: 15\n",
        " Pled Guilty - Misdemeanor: 202\n",
        " Found Guilty - Misdemeanor: 1\n"
       ]
      }
     ],
     "prompt_number": 10
    },
    {
     "cell_type": "markdown",
     "metadata": {},
     "source": [
      "Note: the \"Found Guilty\" have pled not guilty in their court hearing. \n",
      "\n",
      "So it really looks like if you hit and run, you are a lot more likely to end up with a felony (~70%) than a misdemeanor (~30%). However, take into acount that there are often more charges involved other than the hit and run in such cases, and it may be the other charges (such as alcohol or drugs) that make it more likely to get a felony vs. a misdemeanor. \n",
      "\n",
      "Also note that 90% of those charged pled guilty. I've been told people use this as a bargain to get lighter sentence. We'll check this later. \n",
      "\n",
      "Now let's do something else. How different are the highest charges from the highest disposed charges?"
     ]
    },
    {
     "cell_type": "code",
     "collapsed": false,
     "input": [
      "s = 0\n",
      "for k, row in datac.iterrows():\n",
      "     if str(row.highest_charge) not in str(row.highest_dispo_charge):\n",
      "        if str(row.highest_charge_mod) not in str(row.highest_dispo_charge):\n",
      "            s += 1 \n",
      "print('Number of cases where the initial charges are different from the final dispotion charge: '+str(s)+' or '+str(float(s)/float(Total_cases)*100)+'% of total cases.')"
     ],
     "language": "python",
     "metadata": {},
     "outputs": [
      {
       "output_type": "stream",
       "stream": "stdout",
       "text": [
        "Number of cases where the initial charges are different from the final dispotion charge: 221 or 30.6518723994% of total cases.\n"
       ]
      }
     ],
     "prompt_number": 1129
    },
    {
     "cell_type": "heading",
     "level": 1,
     "metadata": {},
     "source": [
      "Analyzing the sentences:"
     ]
    },
    {
     "cell_type": "code",
     "collapsed": false,
     "input": [
      "data.info()"
     ],
     "language": "python",
     "metadata": {},
     "outputs": [
      {
       "output_type": "stream",
       "stream": "stdout",
       "text": [
        "<class 'pandas.core.frame.DataFrame'>\n",
        "Int64Index: 721 entries, 0 to 801\n",
        "Data columns (total 34 columns):\n",
        "id                      721 non-null int64\n",
        "division                721 non-null object\n",
        "district                721 non-null object\n",
        "highest_dispo_charge    692 non-null object\n",
        "last_event_result       721 non-null object\n",
        "number                  721 non-null object\n",
        "highest_charge          721 non-null object\n",
        "highest_charge_mod      338 non-null object\n",
        "complaint_year          721 non-null float64\n",
        "next_pending_event      15 non-null object\n",
        "offense_date            721 non-null object\n",
        "sentencing              721 non-null object\n",
        "final_disposition       721 non-null object\n",
        "unit                    721 non-null object\n",
        "event_of_final_dispo    721 non-null object\n",
        "drug                    13 non-null float64\n",
        "drug_patient            1 non-null float64\n",
        "drug_res                12 non-null float64\n",
        "full                    1 non-null float64\n",
        "incar                   495 non-null float64\n",
        "incar_county            4 non-null float64\n",
        "incar_life              3 non-null float64\n",
        "incar_prison            151 non-null float64\n",
        "incar_local             348 non-null float64\n",
        "prob                    533 non-null float64\n",
        "prob_formal             317 non-null float64\n",
        "prob_sum                217 non-null float64\n",
        "prog                    3 non-null float64\n",
        "prog_child              1 non-null float64\n",
        "prog_dv                 2 non-null float64\n",
        "work                    126 non-null float64\n",
        "work_furl               17 non-null float64\n",
        "work_pub                87 non-null float64\n",
        "work_vol                23 non-null float64\n",
        "dtypes: float64(20), int64(1), object(13)"
       ]
      }
     ],
     "prompt_number": 11
    },
    {
     "cell_type": "code",
     "collapsed": false,
     "input": [
      "#Summary and general observations:\n",
      "print('Summary:\\n'+ str(495/float(Total_convicted)*100)+'% of those convicted and sentenced recieved incarceration between '+str(data.incar.min())+' days to life in prison with a meadian of '+str(data.incar.median()/30.4)+' months!')\n",
      "print(str(533/float(Total_convicted)*100)+'% of those convicted and sentenced recieved probation between '+str(data.prob.min()/365)+' to '+str(data.prob.max()/365)+' years with an average of '+str(data[data.prob >0].prob.mean()/365)+' years!')\n",
      "print(str(126/float(Total_convicted)*100)+'% of those convicted and sentenced recieved work between '+str(data.work.min())+' days to '+str(data.work.max()/30.4)+' months with a median of '+str(data.work.median())+' days!')"
     ],
     "language": "python",
     "metadata": {},
     "outputs": [
      {
       "output_type": "stream",
       "stream": "stdout",
       "text": [
        "Summary:\n",
        "71.7391304348% of those convicted and sentenced recieved incarceration between 1.0 days to life in prison with a meadian of 8.88157894737 months!\n",
        "77.2463768116% of those convicted and sentenced recieved probation between 1.0 to 10.0 years with an average of 3.99155465317 years!\n",
        "18.2608695652% of those convicted and sentenced recieved work between 1.66666666667 days to 12.0065789474 months with a median of 10.0 days!\n"
       ]
      }
     ],
     "prompt_number": 13
    },
    {
     "cell_type": "markdown",
     "metadata": {},
     "source": [
      "Note that I used \"median\" instead of \"mean\" for the incarceration. The reason is that the stadard deviation was so large (because you have many cases with 1-2 days of jail and a few that are life in prison.) So I thought median would be more indicative of what you should expect if you hit and run. However, I'm not a statician and not confidant over this decesion I made in my analysis.\n",
      "\n",
      "Now, in most cases, the sentance was a combination of the three main types of punishment (incarceration, probation, and work). Let's run the numbers:"
     ]
    },
    {
     "cell_type": "code",
     "collapsed": false,
     "input": [
      "print (str(((data.incar>0) & (data.work >0) & (data.prob > 0)).sum()/float(Total_convicted)*100)+'% actually get all three tyes of punishment (work, probation, and incarceration).')\n",
      "print (str(max(((data.prob>0) & (data.work >0)).sum(), ((data.prob>0) & (data.incar >0)).sum(), ((data.incar>0) & (data.work >0)).sum())/float(Total_convicted)*100)+'% actually get at least two different types of punishment (work, probation, and incarceration).')"
     ],
     "language": "python",
     "metadata": {},
     "outputs": [
      {
       "output_type": "stream",
       "stream": "stdout",
       "text": [
        "8.40579710145% actually get all three tyes of punishment (work, probation, and incarceration).\n",
        "49.5652173913% actually get at least two different types of punishment (work, probation, and incarceration).\n"
       ]
      }
     ],
     "prompt_number": 1132
    },
    {
     "cell_type": "markdown",
     "metadata": {},
     "source": [
      "Well, about half of those convicted end up with at least two types of punishment!\n",
      "\n",
      "Now, you would also expect that those convited of a felony should expect a tougher sentence than those with a misdemeanor. You would also expect (or I've been told) that pleading guilty should help you get a lighter sentance. Let's check on these:"
     ]
    },
    {
     "cell_type": "code",
     "collapsed": false,
     "input": [
      "#Finding the relation to types of disposition\n",
      "print('Felony vs. Misdemeanor:\\n'+str(float((Felony.incar>0).sum())/float(nf)*100)+'% of those convicted with a felony recieved incarceration between '+str(Felony.incar.min())+' days to life in prison with a median of '+str(Felony.incar.median()/30.4)+' months!')\n",
      "print('In contrast, the sentence to those convicted with a misdemeanor is lighter: only '+str(float((MD.incar>0).sum())/float(nm)*100)+'% are given between '+str(MD.incar.min())+' days to maximum of a year in prison with a median of '+str(MD.incar.median())+' days!')\n",
      "print('\\nPled Guilty vs. Found guilty:\\n'+str(float((Found.incar>0).sum())/float(nfg)*100)+'% of those who pled not guilty recieved incarceration between '+str(Found.incar.min())+' days to life in prison with a median of '+str(Found.incar.median()/30.4)+' months!')"
     ],
     "language": "python",
     "metadata": {},
     "outputs": [
      {
       "output_type": "stream",
       "stream": "stdout",
       "text": [
        "Felony vs. Misdemeanor:\n",
        "87.0636550308% of those convicted with a felony recieved incarceration between 1.0 days to life in prison with a median of 12.0065789474 months!\n",
        "In contrast, the sentence to those convicted with a misdemeanor is lighter: only 34.9753694581% are given between 1.0 days to maximum of a year in prison with a median of 24.0 days!\n",
        "\n",
        "Pled Guilty vs. Found guilty:\n",
        "93.75% of those who pled not guilty recieved incarceration between 8.0 days to life in prison with a median of 80.0328947368 months!\n"
       ]
      }
     ],
     "prompt_number": 1133
    },
    {
     "cell_type": "markdown",
     "metadata": {},
     "source": [
      "Well, as the numbers show, our hypothesis were correct and the differances are quite significant. However, one has to be careful about drawing conclusions from this. For one thing, it may be that the ones who did not plead guilty were on average charged with much worse dispositions to begin with and were going to get harsher sentances anyways regardless of whether they pled guilty or not. So, it is hard to measure how much pleading guilty can help as a bargain. \n",
      "\n",
      "But doesn't it sound crazy to you that you may end up in prison for life for a hit and run case? It does to me. So let's take a closer look at those cases:"
     ]
    },
    {
     "cell_type": "code",
     "collapsed": false,
     "input": [
      "print data[data.incar_life>0].highest_dispo_charge\n",
      "print data[data.incar_life>0].final_disposition"
     ],
     "language": "python",
     "metadata": {},
     "outputs": [
      {
       "output_type": "stream",
       "stream": "stdout",
       "text": [
        "1      PC187(a)\n",
        "61     PC187(a)\n",
        "467    PC187(a)\n",
        "Name: highest_dispo_charge, dtype: object\n",
        "1      Found Guilty, Felony\n",
        "61     Found Guilty, Felony\n",
        "467    Found Guilty, Felony\n",
        "Name: final_disposition, dtype: object\n"
       ]
      }
     ],
     "prompt_number": 1134
    },
    {
     "cell_type": "markdown",
     "metadata": {},
     "source": [
      "Oh, ok! There are only 3 such cases and they were all charged with murder (PC187(a)). So it sounds like in these cases, the convicted had purposely killed someone in the incident. Funny enough, in all these 3 cases, the person had pled not guilty!\n",
      "\n",
      "But now, it looks like there is a whole world of other dispositions other than the hit and run involved in many of these cases. So, to understand the sentences and the large amount of variation that there is in them, let's take a look at what these cases were charged with or rather what was the highest charge in each case:"
     ]
    },
    {
     "cell_type": "code",
     "collapsed": false,
     "input": [
      "highest_charge_cat = data.groupby(\"highest_charge\")\n",
      "print highest_charge_cat['id', 'incar', 'prob', 'work'].agg(['count', 'mean','median'])"
     ],
     "language": "python",
     "metadata": {},
     "outputs": [
      {
       "output_type": "stream",
       "stream": "stdout",
       "text": [
        "                     id                      incar                       \\\n",
        "                  count        mean  median  count         mean  median   \n",
        "highest_charge                                                            \n",
        "HS11350(a)            2  484.000000   484.0      1    90.000000    90.0   \n",
        "HS11352(a)            1  484.000000   484.0      1   730.000000   730.0   \n",
        "HS11359               1  509.000000   509.0      1   180.000000   180.0   \n",
        "HS11379(a)            1  317.000000   317.0      1   180.000000   180.0   \n",
        "PC187(a)              4  140.500000    46.0      4  7026.250000  6570.0   \n",
        "PC187(a) - PC664      2  650.500000   650.5      2  4015.000000  4015.0   \n",
        "PC191.5(a)           10  331.400000   348.5      9  4407.000000  4015.0   \n",
        "PC191.5(b)            2  612.000000   612.0      1  2312.000000  2312.0   \n",
        "PC192(c)(1)           2  386.000000   386.0      1  1582.000000  1582.0   \n",
        "PC207(a)              1  132.000000   132.0      1  3163.000000  3163.0   \n",
        "PC211                 4  502.750000   605.5      4  1946.500000  1155.5   \n",
        "PC215(a)              2  206.500000   206.5      2  1095.000000  1095.0   \n",
        "PC243(d)              1  140.000000   140.0      1   365.000000   365.0   \n",
        "PC245(a)(1)          37  361.270270   281.0     22   657.363636   365.0   \n",
        "PC245(a)(4)           1  765.000000   765.0      1   180.000000   180.0   \n",
        "PC245(c)              3  512.000000   618.0      3  1703.333333  1825.0   \n",
        "PC273.5(a)            4  515.000000   591.0      3  1986.000000  1095.0   \n",
        "PC273a(a)             8  464.750000   569.5      7   547.857143   730.0   \n",
        "PC368(b)(1)           1  255.000000   255.0      1   259.000000   259.0   \n",
        "PC459                 2  508.000000   508.0      2   851.500000   851.5   \n",
        "PC484 & 490.5         1  511.000000   511.0      1  1460.000000  1460.0   \n",
        "PC69                  1   50.000000    50.0      1   180.000000   180.0   \n",
        "VC10851(a)           13  409.000000   364.0     12   948.833333  1095.0   \n",
        "VC20001(a)          263  402.942966   417.0    133   307.729323   180.0   \n",
        "VC20001(b)(2)        26  343.230769   340.0     19   496.631579   365.0   \n",
        "VC23109.1(a)          1  153.000000   153.0      1   365.000000   365.0   \n",
        "VC23152(a)            6  419.833333   439.0      6   957.333333   425.5   \n",
        "VC23153(a)          296  423.885135   431.0    230   508.252174   197.0   \n",
        "VC23153(b)            1  305.000000   305.0      1   730.000000   730.0   \n",
        "VC2800.2(a)          16  373.250000   349.5     16  1281.125000  1460.0   \n",
        "VC2800.3(a)           8  272.250000   186.0      7  2215.857143  1582.0   \n",
        "\n",
        "                   prob                        work                     \n",
        "                  count         mean  median  count       mean  median  \n",
        "highest_charge                                                          \n",
        "HS11350(a)            2  1460.000000    1460      0        NaN     NaN  \n",
        "HS11352(a)            0          NaN     NaN      0        NaN     NaN  \n",
        "HS11359               1  1095.000000    1095      0        NaN     NaN  \n",
        "HS11379(a)            1  1095.000000    1095      0        NaN     NaN  \n",
        "PC187(a)              0          NaN     NaN      0        NaN     NaN  \n",
        "PC187(a) - PC664      0          NaN     NaN      0        NaN     NaN  \n",
        "PC191.5(a)            0          NaN     NaN      0        NaN     NaN  \n",
        "PC191.5(b)            0          NaN     NaN      0        NaN     NaN  \n",
        "PC192(c)(1)           1  1095.000000    1095      0        NaN     NaN  \n",
        "PC207(a)              0          NaN     NaN      0        NaN     NaN  \n",
        "PC211                 0          NaN     NaN      0        NaN     NaN  \n",
        "PC215(a)              0          NaN     NaN      0        NaN     NaN  \n",
        "PC243(d)              1  1095.000000    1095      0        NaN     NaN  \n",
        "PC245(a)(1)          25  1168.000000    1095      7  20.178571       5  \n",
        "PC245(a)(4)           1  1095.000000    1095      0        NaN     NaN  \n",
        "PC245(c)              0          NaN     NaN      0        NaN     NaN  \n",
        "PC273.5(a)            2  1825.000000    1825      0        NaN     NaN  \n",
        "PC273a(a)             4  1733.750000    1825      1  15.000000      15  \n",
        "PC368(b)(1)           1  1095.000000    1095      0        NaN     NaN  \n",
        "PC459                 1  1095.000000    1095      0        NaN     NaN  \n",
        "PC484 & 490.5         0          NaN     NaN      0        NaN     NaN  \n",
        "PC69                  1  1825.000000    1825      0        NaN     NaN  \n",
        "VC10851(a)            4  1095.000000    1095      0        NaN     NaN  \n",
        "VC20001(a)          218  1177.876147    1095     69  20.475845      10  \n",
        "VC20001(b)(2)        19  1287.105263    1095      5  30.166667      10  \n",
        "VC23109.1(a)          1  1095.000000    1095      0        NaN     NaN  \n",
        "VC23152(a)            3  1825.000000    1825      0        NaN     NaN  \n",
        "VC23153(a)          239  1765.439331    1825     42  77.476190      20  \n",
        "VC23153(b)            0          NaN     NaN      0        NaN     NaN  \n",
        "VC2800.2(a)           4  1095.000000    1095      1  20.000000      20  \n",
        "VC2800.3(a)           4  1460.000000    1460      1  30.000000      30  \n",
        "\n",
        "[31 rows x 12 columns]\n"
       ]
      }
     ],
     "prompt_number": 1135
    },
    {
     "cell_type": "markdown",
     "metadata": {},
     "source": [
      "Before I go on, let me give you a key to 4 of these codes (90% of charges fall into these 4 categories):\n",
      "\n",
      "VC 23153 (a & b): Driving under the influence of alcohol (BAC .08 or more, or .04 or more while driving a commercial vehicle), drugs, or a combination and causing bodily injury. (a) is when there is alcohol but not measured or less than the legal limit of 0.08, (b) is when the alcohol level is above 0.08.\n",
      "\n",
      "VC20001(a): Hit and Run causing body injury or death. \n",
      "\n",
      "VC20001(b)(2): Hit and Run Causing permanent Bodily Injury or Death.\n",
      "\n",
      "VC20002(a): Hit and Run casusing damage to the other car.\n",
      "\n",
      "PC245(a)(1): assault with a deadly weapon\n",
      "\n",
      "So, as you can see, in most of the cases the highest charge is either a VC20001(a)-hit and run resulting in body injury or death (263 cases) or a VC 23153 (a & b)-hit and run uncder the influence of alcohol and/or drugs resulting in body injury (296 cases). \n",
      "\n",
      "78% of those with a DUI charge get median incarceration of 197 days (~7 months) and 80% get average probation of 4.8 years.\n",
      "\n",
      "However, in the hit and run cases without DUI (VC20001(a)), about 50% get median incarceration of 180 days (~6 months) and 82% get average probation of 4.8 years.\n",
      "\n",
      "Feel free to look more into the table above, there are some interesting information hidden there (the means and medians are in days not months. Also in the 'id' column you should ignore the mean and median numbers as they don't mean anything.)\n",
      "\n",
      "Note that the mean and the median of the incarceration in both these cases (hit&run-only and hit&run-DUI) are very different. This tells you there is a large variation in the sentence or time-in-jail/prison given. I guess what contributes the most in the amount of the sentence is the severity of the damage caused (both these codes vc20001(a) & PC245(a)(1) cover any amount of injury up to even death). \n",
      "\n",
      "For driving under influence csses, the average amount of time in incarceration is higher than the hit and run-only cases. The median is higher only by 27days but the mean is different by 6.6months! This tells us some of the DUI cases got an unusually long time in prison/jail. So, I guess if your hit caused severe damage, you should expect much harsher punishment if you were a DUI case than if you were sober. However, if the damages were minor (minor injury), the DUI does not hurt you by much at all. \n",
      "\n",
      "Another big category is the PC245(1)(1) which is assault with a deadly weapon (37 cases). And for that, only 60% went to jail/prison!!! Those who did go to jail/prison, however, got on average double amount of time (average of 21 months) in jail/prison than in the other two cases of hit and run with or without influence of drugs/alcohol. "
     ]
    },
    {
     "cell_type": "heading",
     "level": 2,
     "metadata": {},
     "source": [
      "Different Counties:"
     ]
    },
    {
     "cell_type": "markdown",
     "metadata": {},
     "source": [
      "Let's take a look at the data in each county:"
     ]
    },
    {
     "cell_type": "code",
     "collapsed": false,
     "input": [
      "#Finding the relation to county\n",
      "NCpop = 821496\n",
      "SCpop = 107631\n",
      "ECpop = 480483\n",
      "Cpop= 1322553 \n",
      "\n",
      "county_cat = data.groupby(\"district\")\n",
      "print county_cat['id', 'incar', 'prob', 'work'].agg(['count', 'mean','median'])\n",
      "\n",
      "print('\\nAs percentage of population in each county:')\n",
      "print(' North County: '+str(float(((data.district=='North County').sum()))/float(NCpop))+'\\n South County: '+str(float(((data.district=='South County').sum()))/float(SCpop))+'\\n East county: '+str(float(((data.district=='East County').sum()))/float(ECpop))+'\\n Central: '+str(float(((data.district=='Central').sum()))/float(Cpop))+'.\\n')\n",
      "\n",
      "b= data[data.district == \"North County\"].groupby(\"highest_charge\")\n",
      "print b['id', 'incar', 'prob', 'work'].agg(['count', 'mean','median'])"
     ],
     "language": "python",
     "metadata": {},
     "outputs": [
      {
       "output_type": "stream",
       "stream": "stdout",
       "text": [
        "                 id                      incar                       prob  \\\n",
        "              count        mean  median  count        mean  median  count   \n",
        "district                                                                    \n",
        "Central         175   93.445714    92.0    142  875.739437     365    117   \n",
        "East County      81  253.493827   253.0     58  798.879310     270     55   \n",
        "North County    351  486.829060   487.0    209  575.870813     180    282   \n",
        "South County    114  741.000000   740.5     86  674.093023     365     79   \n",
        "\n",
        "                                    work                        \n",
        "                     mean  median  count       mean     median  \n",
        "district                                                        \n",
        "Central       1463.119658    1095     28  65.892857  18.333333  \n",
        "East County   1426.818182    1095     12  24.805556   8.500000  \n",
        "North County  1438.641844    1095     67  19.197761  10.000000  \n",
        "South County  1533.924051    1825     19  83.947368  30.000000  \n",
        "\n",
        "[4 rows x 12 columns]\n",
        "\n",
        "As percentage of population in each county:\n",
        " North County: 0.000427269274592\n",
        " South County: 0.00105917440143\n",
        " East county: 0.000168580366007\n",
        " Central: 0.000132319838978.\n",
        "\n",
        "                     id                      incar                       \\\n",
        "                  count        mean  median  count         mean  median   \n",
        "highest_charge                                                            \n",
        "HS11350(a)            2  484.000000   484.0      1    90.000000    90.0   \n",
        "HS11352(a)            1  484.000000   484.0      1   730.000000   730.0   \n",
        "HS11359               1  509.000000   509.0      1   180.000000   180.0   \n",
        "HS11379(a)            1  317.000000   317.0      1   180.000000   180.0   \n",
        "PC187(a)              1  468.000000   468.0      1  5840.000000  5840.0   \n",
        "PC187(a) - PC664      1  588.000000   588.0      1  6570.000000  6570.0   \n",
        "PC191.5(a)            5  424.800000   407.0      4  5535.750000  5961.5   \n",
        "PC191.5(b)            1  479.000000   479.0      0          NaN     NaN   \n",
        "PC192(c)(1)           2  386.000000   386.0      1  1582.000000  1582.0   \n",
        "PC211                 2  605.500000   605.5      2  2859.000000  2859.0   \n",
        "PC245(a)(1)          12  561.583333   601.5      4   294.500000   316.5   \n",
        "PC245(c)              1  618.000000   618.0      1  1095.000000  1095.0   \n",
        "PC273.5(a)            3  608.333333   632.0      2  2859.000000  2859.0   \n",
        "PC273a(a)             1  440.000000   440.0      1     5.000000     5.0   \n",
        "PC484 & 490.5         1  511.000000   511.0      1  1460.000000  1460.0   \n",
        "VC10851(a)            7  459.857143   409.0      7   827.142857  1095.0   \n",
        "VC20001(a)          142  482.133803   471.5     57   218.929825   120.0   \n",
        "VC20001(b)(2)        11  495.090909   499.0      8   638.875000   547.5   \n",
        "VC23152(a)            3  616.000000   614.0      3   373.666667   365.0   \n",
        "VC23153(a)          144  480.145833   481.5    103   352.533981   180.0   \n",
        "VC23153(b)            1  305.000000   305.0      1   730.000000   730.0   \n",
        "VC2800.2(a)           7  551.714286   563.0      7   851.571429   973.0   \n",
        "VC2800.3(a)           1  540.000000   540.0      1   365.000000   365.0   \n",
        "\n",
        "                   prob                        work                     \n",
        "                  count         mean  median  count       mean  median  \n",
        "highest_charge                                                          \n",
        "HS11350(a)            2  1460.000000    1460      0        NaN     NaN  \n",
        "HS11352(a)            0          NaN     NaN      0        NaN     NaN  \n",
        "HS11359               1  1095.000000    1095      0        NaN     NaN  \n",
        "HS11379(a)            1  1095.000000    1095      0        NaN     NaN  \n",
        "PC187(a)              0          NaN     NaN      0        NaN     NaN  \n",
        "PC187(a) - PC664      0          NaN     NaN      0        NaN     NaN  \n",
        "PC191.5(a)            0          NaN     NaN      0        NaN     NaN  \n",
        "PC191.5(b)            0          NaN     NaN      0        NaN     NaN  \n",
        "PC192(c)(1)           1  1095.000000    1095      0        NaN     NaN  \n",
        "PC211                 0          NaN     NaN      0        NaN     NaN  \n",
        "PC245(a)(1)          10  1168.000000    1095      3  37.500000    30.0  \n",
        "PC245(c)              0          NaN     NaN      0        NaN     NaN  \n",
        "PC273.5(a)            1  1825.000000    1825      0        NaN     NaN  \n",
        "PC273a(a)             1  1825.000000    1825      1  15.000000    15.0  \n",
        "PC484 & 490.5         0          NaN     NaN      0        NaN     NaN  \n",
        "VC10851(a)            3  1095.000000    1095      0        NaN     NaN  \n",
        "VC20001(a)          122  1141.368852    1095     42  19.863095     8.5  \n",
        "VC20001(b)(2)         6  1155.833333    1095      1  15.000000    15.0  \n",
        "VC23152(a)            2  1825.000000    1825      0        NaN     NaN  \n",
        "VC23153(a)          128  1765.117188    1825     19  15.236842    10.0  \n",
        "VC23153(b)            0          NaN     NaN      0        NaN     NaN  \n",
        "VC2800.2(a)           3  1095.000000    1095      1  20.000000    20.0  \n",
        "VC2800.3(a)           1  1825.000000    1825      0        NaN     NaN  \n",
        "\n",
        "[23 rows x 12 columns]\n"
       ]
      }
     ],
     "prompt_number": 14
    },
    {
     "cell_type": "markdown",
     "metadata": {},
     "source": [
      "So, first thing to note is there are a lot more cases in the North county (315) compared to the other counties (Cenral: 175, South: 114, East: 81). But should we jump into conclusions? Not yet, let's normalize these numbers by the population of each county. As you see above, I recalculated the number of cases as a percentage of the population in each county. And guess what? The South county by far has the highest ratio of hit and run incidiens, in fact about 10 times more than the East and Central districs and more than double the numbers in the North county. \n",
      "\n",
      "Another interesting thing to note: in the North county the incarcentation time is really low compared to the other counties. Specially the median is about half of the South and Central districts and about two-thirds of the East county. This means, many people recieve very little time in prison, much less than in other counties. So I looked at the North County only in more detail as you see above to see if the nature of the incidents were very different there than in other districts (drugs, wepaons, etc). Looking at the numbers, not really! The types of crimes and the distributions are pretty similar to the what we've seen before. So the conclusion is that in the North County in the minor incidents (minor injury) cases, you can expect much less time in jail/prison than in other counties. Looking at the hit and run-only cases and comparing to hit and run-DUI cases, if you were not a DUI case with minor damages caused, you get treated much better in the North County (about one-third (over 30%) less time in jail/prison). However in severe cases of injury/death, the punishments are more similar to the other counties (This is colcluded from the fact that the differance in means in much less than the differance in the medians).  "
     ]
    },
    {
     "cell_type": "heading",
     "level": 2,
     "metadata": {},
     "source": [
      "The highest_charge_mod data"
     ]
    },
    {
     "cell_type": "markdown",
     "metadata": {},
     "source": [
      "There is a column in the data called highest_charge_mod which indicates things like 'drugs' and 'alcohol'. I did some analysis based on this information (what you see below) first. But then I found the exact charge codes much more accurate. So, I beleive my analysis above is more accurate since it is based on the exact legal code the person was charged with, however if you are interested in learning what would the analysis look like if I used the highest_charge_mod instead, here is what I got:"
     ]
    },
    {
     "cell_type": "code",
     "collapsed": false,
     "input": [
      "n_alcohol = (data.highest_charge_mod=='alcohol').sum()\n",
      "n_drugs = (data.highest_charge_mod=='drugs').sum()\n",
      "n_deadly = (data.highest_charge_mod=='deadly w').sum()\n",
      "n_combine = (data.highest_charge_mod=='combine').sum()\n",
      "\n",
      "County_cat = data.groupby(\"highest_charge\")\n",
      "print County_cat['id', 'incar', 'prob', 'work', 'sentencing'].agg(['count', 'mean','median'])\n",
      "\n",
      "print('Number of cases not charged with additional things: '+str(len(data[data.highest_charge_mod.isnull()])))\n",
      "print('Number of cases also charged with: \\n alcohol: '+str(n_alcohol)+'\\n drugs: '+str(n_drugs)+' \\n deadly w: '+str(n_deadly)+' \\n combination: '+ str(n_combine))"
     ],
     "language": "python",
     "metadata": {},
     "outputs": [
      {
       "output_type": "stream",
       "stream": "stdout",
       "text": [
        "                     id                      incar                       \\\n",
        "                  count        mean  median  count         mean  median   \n",
        "highest_charge                                                            \n",
        "HS11350(a)            2  484.000000   484.0      1    90.000000    90.0   \n",
        "HS11352(a)            1  484.000000   484.0      1   730.000000   730.0   \n",
        "HS11359               1  509.000000   509.0      1   180.000000   180.0   \n",
        "HS11379(a)            1  317.000000   317.0      1   180.000000   180.0   \n",
        "PC187(a)              4  140.500000    46.0      4  7026.250000  6570.0   \n",
        "PC187(a) - PC664      2  650.500000   650.5      2  4015.000000  4015.0   \n",
        "PC191.5(a)           10  331.400000   348.5      9  4407.000000  4015.0   \n",
        "PC191.5(b)            2  612.000000   612.0      1  2312.000000  2312.0   \n",
        "PC192(c)(1)           2  386.000000   386.0      1  1582.000000  1582.0   \n",
        "PC207(a)              1  132.000000   132.0      1  3163.000000  3163.0   \n",
        "PC211                 4  502.750000   605.5      4  1946.500000  1155.5   \n",
        "PC215(a)              2  206.500000   206.5      2  1095.000000  1095.0   \n",
        "PC243(d)              1  140.000000   140.0      1   365.000000   365.0   \n",
        "PC245(a)(1)          37  361.270270   281.0     22   657.363636   365.0   \n",
        "PC245(a)(4)           1  765.000000   765.0      1   180.000000   180.0   \n",
        "PC245(c)              3  512.000000   618.0      3  1703.333333  1825.0   \n",
        "PC273.5(a)            4  515.000000   591.0      3  1986.000000  1095.0   \n",
        "PC273a(a)             8  464.750000   569.5      7   547.857143   730.0   \n",
        "PC368(b)(1)           1  255.000000   255.0      1   259.000000   259.0   \n",
        "PC459                 2  508.000000   508.0      2   851.500000   851.5   \n",
        "PC484 & 490.5         1  511.000000   511.0      1  1460.000000  1460.0   \n",
        "PC69                  1   50.000000    50.0      1   180.000000   180.0   \n",
        "VC10851(a)           13  409.000000   364.0     12   948.833333  1095.0   \n",
        "VC20001(a)          263  402.942966   417.0    133   307.729323   180.0   \n",
        "VC20001(b)(2)        26  343.230769   340.0     19   496.631579   365.0   \n",
        "VC23109.1(a)          1  153.000000   153.0      1   365.000000   365.0   \n",
        "VC23152(a)            6  419.833333   439.0      6   957.333333   425.5   \n",
        "VC23153(a)          296  423.885135   431.0    230   508.252174   197.0   \n",
        "VC23153(b)            1  305.000000   305.0      1   730.000000   730.0   \n",
        "VC2800.2(a)          16  373.250000   349.5     16  1281.125000  1460.0   \n",
        "VC2800.3(a)           8  272.250000   186.0      7  2215.857143  1582.0   \n",
        "\n",
        "                   prob                        work                     \n",
        "                  count         mean  median  count       mean  median  \n",
        "highest_charge                                                          \n",
        "HS11350(a)            2  1460.000000    1460      0        NaN     NaN  \n",
        "HS11352(a)            0          NaN     NaN      0        NaN     NaN  \n",
        "HS11359               1  1095.000000    1095      0        NaN     NaN  \n",
        "HS11379(a)            1  1095.000000    1095      0        NaN     NaN  \n",
        "PC187(a)              0          NaN     NaN      0        NaN     NaN  \n",
        "PC187(a) - PC664      0          NaN     NaN      0        NaN     NaN  \n",
        "PC191.5(a)            0          NaN     NaN      0        NaN     NaN  \n",
        "PC191.5(b)            0          NaN     NaN      0        NaN     NaN  \n",
        "PC192(c)(1)           1  1095.000000    1095      0        NaN     NaN  \n",
        "PC207(a)              0          NaN     NaN      0        NaN     NaN  \n",
        "PC211                 0          NaN     NaN      0        NaN     NaN  \n",
        "PC215(a)              0          NaN     NaN      0        NaN     NaN  \n",
        "PC243(d)              1  1095.000000    1095      0        NaN     NaN  \n",
        "PC245(a)(1)          25  1168.000000    1095      7  20.178571       5  \n",
        "PC245(a)(4)           1  1095.000000    1095      0        NaN     NaN  \n",
        "PC245(c)              0          NaN     NaN      0        NaN     NaN  \n",
        "PC273.5(a)            2  1825.000000    1825      0        NaN     NaN  \n",
        "PC273a(a)             4  1733.750000    1825      1  15.000000      15  \n",
        "PC368(b)(1)           1  1095.000000    1095      0        NaN     NaN  \n",
        "PC459                 1  1095.000000    1095      0        NaN     NaN  \n",
        "PC484 & 490.5         0          NaN     NaN      0        NaN     NaN  \n",
        "PC69                  1  1825.000000    1825      0        NaN     NaN  \n",
        "VC10851(a)            4  1095.000000    1095      0        NaN     NaN  \n",
        "VC20001(a)          218  1177.876147    1095     69  20.475845      10  \n",
        "VC20001(b)(2)        19  1287.105263    1095      5  30.166667      10  \n",
        "VC23109.1(a)          1  1095.000000    1095      0        NaN     NaN  \n",
        "VC23152(a)            3  1825.000000    1825      0        NaN     NaN  \n",
        "VC23153(a)          239  1765.439331    1825     42  77.476190      20  \n",
        "VC23153(b)            0          NaN     NaN      0        NaN     NaN  \n",
        "VC2800.2(a)           4  1095.000000    1095      1  20.000000      20  \n",
        "VC2800.3(a)           4  1460.000000    1460      1  30.000000      30  \n",
        "\n",
        "[31 rows x 12 columns]\n",
        "Number of cases not charged with additional things: 383\n",
        "Number of cases also charged with: \n",
        " alcohol: 264\n",
        " drugs: 13 \n",
        " deadly w: 36 \n",
        " combination: 19\n"
       ]
      }
     ],
     "prompt_number": 17
    },
    {
     "cell_type": "code",
     "collapsed": false,
     "input": [
      "#Finding the relation to higher charges\n",
      "print 'percenatge charged a Felony:'\n",
      "print 'alcohol:'\n",
      "print(float((Felony.highest_charge_mod == 'alcohol').sum())/float(n_alcohol)*100)\n",
      "print 'deadly weapon:'\n",
      "print(float((Felony.highest_charge_mod == 'deadly w').sum())/float(n_deadly)*100)\n",
      "print 'drugs:'\n",
      "print(float((Felony.highest_charge_mod == 'drugs').sum())/float(n_drugs)*100)\n",
      "print 'combination'\n",
      "print(float((Felony.highest_charge_mod == 'combine').sum())/float((Felony.highest_charge_mod == 'combine').sum()+(MD.highest_charge_mod == 'combine').sum())*100)\n",
      "print 'no indicated additional charges:'\n",
      "print(float((Felony.highest_charge_mod.isnull()).sum())/float((Felony.highest_charge_mod.isnull()).sum()+(MD.highest_charge_mod.isnull().sum()))*100)\n",
      "\n",
      "print \"\\nPercentage of alcohol cases with incarceration:\"\n",
      "print(float(((data.highest_charge_mod == 'alcohol') & (data.incar>0)).sum())/float(n_alcohol)*100)\n",
      "print \"Mean of incarceration (months), mean of probation (months)\"\n",
      "print(str(data[data.highest_charge_mod =='alcohol'].incar.median()/30.4)+', '+str(data[data.highest_charge_mod =='alcohol'].prob.median()/30.4))\n",
      "\n",
      "print \"\\nPercentage of drug cases with incarceration:\"\n",
      "print(float(((data.highest_charge_mod == 'drugs') & (data.incar>0)).sum())/float(n_drugs)*100)\n",
      "print \"Mean of incarceration (months), mean of probation (months)\"\n",
      "print(str(data[data.highest_charge_mod =='drugs'].incar.median()/30.4)+', '+str(data[data.highest_charge_mod =='drugs'].prob.median()/30.4))\n",
      "\n",
      "print \"\\nPercentage of deadly weapon cases with incarceration:\"\n",
      "print(float(((data.highest_charge_mod == 'deadly w') & (data.incar>0)).sum())/float(n_deadly)*100)\n",
      "print \"Mean of incarceration (months), mean of probation (months)\"\n",
      "print(str(data[data.highest_charge_mod =='deadly w'].incar.median()/30.4)+', '+str(data[data.highest_charge_mod =='deadly w'].prob.median()/30.4))\n"
     ],
     "language": "python",
     "metadata": {},
     "outputs": [
      {
       "output_type": "stream",
       "stream": "stdout",
       "text": [
        "percenatge charged a Felony:\n",
        "alcohol:\n",
        "72.3484848485\n",
        "deadly weapon:\n",
        "72.2222222222\n",
        "drugs:\n",
        "69.2307692308\n",
        "combination\n",
        "63.1578947368\n",
        "no indicated additional charges:\n",
        "67.7777777778\n",
        "\n",
        "Percentage of alcohol cases with incarceration:\n",
        "78.4090909091\n",
        "Mean of incarceration (months), mean of probation (months)\n",
        "5.92105263158, 60.0328947368\n",
        "\n",
        "Percentage of drug cases with incarceration:\n",
        "76.9230769231\n",
        "Mean of incarceration (months), mean of probation (months)\n",
        "20.0, 60.0328947368\n",
        "\n",
        "Percentage of deadly weapon cases with incarceration:\n",
        "58.3333333333\n",
        "Mean of incarceration (months), mean of probation (months)\n",
        "12.0065789474, 36.0197368421\n"
       ]
      }
     ],
     "prompt_number": 1138
    }
   ],
   "metadata": {}
  }
 ]
}